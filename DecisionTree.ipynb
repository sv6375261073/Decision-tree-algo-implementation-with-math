{
 "cells": [
  {
   "cell_type": "code",
   "execution_count": 1,
   "metadata": {},
   "outputs": [],
   "source": [
    "import pandas as pd\n",
    "import numpy as np\n",
    "import math"
   ]
  },
  {
   "cell_type": "code",
   "execution_count": 2,
   "metadata": {},
   "outputs": [],
   "source": [
    "# Dataset making code\n",
    "Age=['old','old','old','mid','mid','mid','mid','new','new','new']\n",
    "Competition=['yes','NO','NO','yes','yes','NO','NO','yes','NO','NO']\n",
    "Type=['s/w','s/w','H/w','s/w','H/w','H/w','s/w','s/w','H/w','H/w']\n",
    "profit=['Down','Down','Down','Down','Down','Up','Up','Up','Up','Up']\n",
    "hardwork=['yes','No','No','yes','No','yes','yes','yes','yes','No']\n",
    "data=pd.DataFrame({'hardwork':hardwork,'Age':Age,'Competition':Competition,'Type':Type,'Profit':profit})"
   ]
  },
  {
   "cell_type": "code",
   "execution_count": 3,
   "metadata": {
    "collapsed": true
   },
   "outputs": [
    {
     "data": {
      "text/html": [
       "<div>\n",
       "<style scoped>\n",
       "    .dataframe tbody tr th:only-of-type {\n",
       "        vertical-align: middle;\n",
       "    }\n",
       "\n",
       "    .dataframe tbody tr th {\n",
       "        vertical-align: top;\n",
       "    }\n",
       "\n",
       "    .dataframe thead th {\n",
       "        text-align: right;\n",
       "    }\n",
       "</style>\n",
       "<table border=\"1\" class=\"dataframe\">\n",
       "  <thead>\n",
       "    <tr style=\"text-align: right;\">\n",
       "      <th></th>\n",
       "      <th>hardwork</th>\n",
       "      <th>Age</th>\n",
       "      <th>Competition</th>\n",
       "      <th>Type</th>\n",
       "      <th>Profit</th>\n",
       "    </tr>\n",
       "  </thead>\n",
       "  <tbody>\n",
       "    <tr>\n",
       "      <td>0</td>\n",
       "      <td>yes</td>\n",
       "      <td>old</td>\n",
       "      <td>yes</td>\n",
       "      <td>s/w</td>\n",
       "      <td>Down</td>\n",
       "    </tr>\n",
       "    <tr>\n",
       "      <td>1</td>\n",
       "      <td>No</td>\n",
       "      <td>old</td>\n",
       "      <td>NO</td>\n",
       "      <td>s/w</td>\n",
       "      <td>Down</td>\n",
       "    </tr>\n",
       "    <tr>\n",
       "      <td>2</td>\n",
       "      <td>No</td>\n",
       "      <td>old</td>\n",
       "      <td>NO</td>\n",
       "      <td>H/w</td>\n",
       "      <td>Down</td>\n",
       "    </tr>\n",
       "    <tr>\n",
       "      <td>3</td>\n",
       "      <td>yes</td>\n",
       "      <td>mid</td>\n",
       "      <td>yes</td>\n",
       "      <td>s/w</td>\n",
       "      <td>Down</td>\n",
       "    </tr>\n",
       "    <tr>\n",
       "      <td>4</td>\n",
       "      <td>No</td>\n",
       "      <td>mid</td>\n",
       "      <td>yes</td>\n",
       "      <td>H/w</td>\n",
       "      <td>Down</td>\n",
       "    </tr>\n",
       "    <tr>\n",
       "      <td>5</td>\n",
       "      <td>yes</td>\n",
       "      <td>mid</td>\n",
       "      <td>NO</td>\n",
       "      <td>H/w</td>\n",
       "      <td>Up</td>\n",
       "    </tr>\n",
       "    <tr>\n",
       "      <td>6</td>\n",
       "      <td>yes</td>\n",
       "      <td>mid</td>\n",
       "      <td>NO</td>\n",
       "      <td>s/w</td>\n",
       "      <td>Up</td>\n",
       "    </tr>\n",
       "    <tr>\n",
       "      <td>7</td>\n",
       "      <td>yes</td>\n",
       "      <td>new</td>\n",
       "      <td>yes</td>\n",
       "      <td>s/w</td>\n",
       "      <td>Up</td>\n",
       "    </tr>\n",
       "    <tr>\n",
       "      <td>8</td>\n",
       "      <td>yes</td>\n",
       "      <td>new</td>\n",
       "      <td>NO</td>\n",
       "      <td>H/w</td>\n",
       "      <td>Up</td>\n",
       "    </tr>\n",
       "    <tr>\n",
       "      <td>9</td>\n",
       "      <td>No</td>\n",
       "      <td>new</td>\n",
       "      <td>NO</td>\n",
       "      <td>H/w</td>\n",
       "      <td>Up</td>\n",
       "    </tr>\n",
       "  </tbody>\n",
       "</table>\n",
       "</div>"
      ],
      "text/plain": [
       "  hardwork  Age Competition Type Profit\n",
       "0      yes  old         yes  s/w   Down\n",
       "1       No  old          NO  s/w   Down\n",
       "2       No  old          NO  H/w   Down\n",
       "3      yes  mid         yes  s/w   Down\n",
       "4       No  mid         yes  H/w   Down\n",
       "5      yes  mid          NO  H/w     Up\n",
       "6      yes  mid          NO  s/w     Up\n",
       "7      yes  new         yes  s/w     Up\n",
       "8      yes  new          NO  H/w     Up\n",
       "9       No  new          NO  H/w     Up"
      ]
     },
     "execution_count": 3,
     "metadata": {},
     "output_type": "execute_result"
    }
   ],
   "source": [
    "data"
   ]
  },
  {
   "cell_type": "code",
   "execution_count": 6,
   "metadata": {},
   "outputs": [
    {
     "name": "stdout",
     "output_type": "stream",
     "text": [
      "['Down' 'Up'] [5, 5]\n"
     ]
    }
   ],
   "source": [
    "# calculating  Frequency of each category \n",
    "def target_cat_frequency(data):\n",
    "    target=data.iloc[:,-1].unique()\n",
    "    freq=[list(data.iloc[:,-1]).count(i) for i in target]\n",
    "    return freq,target\n",
    "target_cat_frequency_var,target=target_cat_frequency(data)\n",
    "print(target,target_cat_frequency_var)"
   ]
  },
  {
   "cell_type": "code",
   "execution_count": 9,
   "metadata": {},
   "outputs": [
    {
     "data": {
      "text/plain": [
       "1.0"
      ]
     },
     "execution_count": 9,
     "metadata": {},
     "output_type": "execute_result"
    }
   ],
   "source": [
    "def Entropy_class(target_freq):\n",
    "    target_sum=np.array(target_freq).sum()\n",
    "    Entropy_class=np.array([-(i/target_sum)*math.log((i/target_sum),2) for i in target_freq]).sum()\n",
    "    return Entropy_class\n",
    "Entropy_class_var=Entropy_class(target_cat_frequency_var)  \n",
    "Entropy_class_var"
   ]
  },
  {
   "cell_type": "code",
   "execution_count": 10,
   "metadata": {},
   "outputs": [
    {
     "data": {
      "text/plain": [
       "['hardwork', 'Age', 'Competition', 'Type', 'Profit']"
      ]
     },
     "execution_count": 10,
     "metadata": {},
     "output_type": "execute_result"
    }
   ],
   "source": [
    "feature_name=list(data.head(0))\n",
    "feature_name"
   ]
  },
  {
   "cell_type": "code",
   "execution_count": 23,
   "metadata": {},
   "outputs": [
    {
     "data": {
      "text/plain": [
       "[array(['yes', 'No'], dtype=object),\n",
       " array(['old', 'mid', 'new'], dtype=object),\n",
       " array(['yes', 'NO'], dtype=object),\n",
       " array(['s/w', 'H/w'], dtype=object)]"
      ]
     },
     "execution_count": 23,
     "metadata": {},
     "output_type": "execute_result"
    }
   ],
   "source": [
    "def feature_cat(data):\n",
    "    feature_ca=[data.iloc[:,i].unique() for i in range(len(list(data.head(0)))-1)]\n",
    "    return feature_ca\n",
    "feature_cat_var=feature_cat(data)\n",
    "feature_cat_var"
   ]
  },
  {
   "cell_type": "code",
   "execution_count": 24,
   "metadata": {
    "scrolled": true
   },
   "outputs": [],
   "source": [
    "# target_info=list(np.zeros(len(target)))\n",
    "def Info_gain_tab(target,feature_ca,t,col):\n",
    "    x=[]\n",
    "    for t in range(t):\n",
    "        target_info=list(np.zeros(len(target)))\n",
    "        for i in range(len(data[:])):\n",
    "            if(data.iloc[i,col]==feature_ca[col][t]):\n",
    "                print(data.iloc[i,col],feature_ca[col][t])\n",
    "                for k in range(len(target)):\n",
    "                    if data.iloc[i][-1] ==target[k]:\n",
    "                        print(target[k],target_info[k])\n",
    "                        target_info[k]+=1\n",
    "        x.append(target_info) \n",
    "    return x"
   ]
  },
  {
   "cell_type": "code",
   "execution_count": 13,
   "metadata": {
    "scrolled": true
   },
   "outputs": [
    {
     "name": "stdout",
     "output_type": "stream",
     "text": [
      "yes yes\n",
      "Down 0.0\n",
      "yes yes\n",
      "Down 1.0\n",
      "yes yes\n",
      "Up 0.0\n",
      "yes yes\n",
      "Up 1.0\n",
      "yes yes\n",
      "Up 2.0\n",
      "yes yes\n",
      "Up 3.0\n",
      "No No\n",
      "Down 0.0\n",
      "No No\n",
      "Down 1.0\n",
      "No No\n",
      "Down 2.0\n",
      "No No\n",
      "Up 0.0\n",
      "old old\n",
      "Down 0.0\n",
      "old old\n",
      "Down 1.0\n",
      "old old\n",
      "Down 2.0\n",
      "mid mid\n",
      "Down 0.0\n",
      "mid mid\n",
      "Down 1.0\n",
      "mid mid\n",
      "Up 0.0\n",
      "mid mid\n",
      "Up 1.0\n",
      "new new\n",
      "Up 0.0\n",
      "new new\n",
      "Up 1.0\n",
      "new new\n",
      "Up 2.0\n",
      "yes yes\n",
      "Down 0.0\n",
      "yes yes\n",
      "Down 1.0\n",
      "yes yes\n",
      "Down 2.0\n",
      "yes yes\n",
      "Up 0.0\n",
      "NO NO\n",
      "Down 0.0\n",
      "NO NO\n",
      "Down 1.0\n",
      "NO NO\n",
      "Up 0.0\n",
      "NO NO\n",
      "Up 1.0\n",
      "NO NO\n",
      "Up 2.0\n",
      "NO NO\n",
      "Up 3.0\n",
      "s/w s/w\n",
      "Down 0.0\n",
      "s/w s/w\n",
      "Down 1.0\n",
      "s/w s/w\n",
      "Down 2.0\n",
      "s/w s/w\n",
      "Up 0.0\n",
      "s/w s/w\n",
      "Up 1.0\n",
      "H/w H/w\n",
      "Down 0.0\n",
      "H/w H/w\n",
      "Down 1.0\n",
      "H/w H/w\n",
      "Up 0.0\n",
      "H/w H/w\n",
      "Up 1.0\n",
      "H/w H/w\n",
      "Up 2.0\n"
     ]
    },
    {
     "data": {
      "text/plain": [
       "[[[2.0, 4.0], [3.0, 1.0]],\n",
       " [[3.0, 0.0], [2.0, 2.0], [0.0, 3.0]],\n",
       " [[3.0, 1.0], [2.0, 4.0]],\n",
       " [[3.0, 2.0], [2.0, 3.0]]]"
      ]
     },
     "execution_count": 13,
     "metadata": {},
     "output_type": "execute_result"
    }
   ],
   "source": [
    "Info_gain_tab_var=[]\n",
    "for i in range(len(feature_cat_var)):\n",
    "    t=len(feature_cat_var[i])\n",
    "    var=Info_gain_tab(target,feature_cat_var,t,i)\n",
    "    Info_gain_tab_var.append(var)\n",
    "Info_gain_tab_var"
   ]
  },
  {
   "cell_type": "code",
   "execution_count": 25,
   "metadata": {
    "scrolled": true
   },
   "outputs": [],
   "source": [
    "# def Entropy_attribute(Info_gain_var,):\n",
    "def Info_gain_final(target_cat_frequency_var,Info_gain_var):\n",
    "    total_gain=[]\n",
    "    target_sum=np.array(target_cat_frequency_var).sum()\n",
    "    for i in range(len(Info_gain_var)):\n",
    "        total_gain_ent=[]\n",
    "        for j in range(len(Info_gain_var[i])):\n",
    "            infogain_att=0\n",
    "            for k in range(len(Info_gain_var[0][0])):\n",
    "                try:\n",
    "                    upper=Info_gain_var[i][j][k]\n",
    "                    denominator=np.array(Info_gain_var[i][j]).sum()\n",
    "                    infogain_att=infogain_att-(upper/denominator)*math.log((upper/denominator),2)\n",
    "                except:\n",
    "                    infogain_att-0\n",
    "            total_gain_ent.append(infogain_att) \n",
    "        total_gain.append(total_gain_ent)\n",
    "    return total_gain"
   ]
  },
  {
   "cell_type": "code",
   "execution_count": 26,
   "metadata": {},
   "outputs": [
    {
     "data": {
      "text/plain": [
       "[[0.9182958340544896, 0.8112781244591328],\n",
       " [0.0, 1.0, 0.0],\n",
       " [0.8112781244591328, 0.9182958340544896],\n",
       " [0.9709505944546686, 0.9709505944546686]]"
      ]
     },
     "execution_count": 26,
     "metadata": {},
     "output_type": "execute_result"
    }
   ],
   "source": [
    "info_gain_var=Info_gain_final(target_cat_frequency_var,Info_gain_tab_var)\n",
    "info_gain_var"
   ]
  },
  {
   "cell_type": "code",
   "execution_count": 16,
   "metadata": {},
   "outputs": [],
   "source": [
    "def Entropy_att(Info_gain_var):\n",
    "    Entropy_attribute=[]\n",
    "    denominator=np.array(target_cat_frequency_var).sum()\n",
    "    for i in range(len(Info_gain_var)):\n",
    "        Entropy_att_var=0\n",
    "        for j in range(len(Info_gain_tab_var[i])):\n",
    "            upper=np.array(Info_gain_tab_var[i][j]).sum()\n",
    "            Entropy_att_var+=(upper/denominator)*np.array(info_gain_var[i][j])\n",
    "        Entropy_attribute.append(Entropy_att_var)\n",
    "    return Entropy_attribute\n",
    "Entropy_att_var=Entropy_att(info_gain_var)"
   ]
  },
  {
   "cell_type": "code",
   "execution_count": 36,
   "metadata": {},
   "outputs": [
    {
     "data": {
      "text/plain": [
       "array([0.12451125, 0.6       , 0.12451125, 0.02904941])"
      ]
     },
     "execution_count": 36,
     "metadata": {},
     "output_type": "execute_result"
    }
   ],
   "source": [
    "Entropy_attribute=Entropy_class_var-np.array(Entropy_att_var)\n",
    "Entropy_attribute"
   ]
  }
 ],
 "metadata": {
  "kernelspec": {
   "display_name": "Python 3",
   "language": "python",
   "name": "python3"
  },
  "language_info": {
   "codemirror_mode": {
    "name": "ipython",
    "version": 3
   },
   "file_extension": ".py",
   "mimetype": "text/x-python",
   "name": "python",
   "nbconvert_exporter": "python",
   "pygments_lexer": "ipython3",
   "version": "3.7.4"
  }
 },
 "nbformat": 4,
 "nbformat_minor": 2
}
